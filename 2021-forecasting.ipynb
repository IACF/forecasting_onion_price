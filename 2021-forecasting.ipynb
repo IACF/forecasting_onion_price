{
 "cells": [
  {
   "cell_type": "code",
   "execution_count": 1,
   "id": "084ade2a",
   "metadata": {},
   "outputs": [
    {
     "name": "stderr",
     "output_type": "stream",
     "text": [
      "<ipython-input-1-8b9812cb7d39>:26: SettingWithCopyWarning: \n",
      "A value is trying to be set on a copy of a slice from a DataFrame\n",
      "\n",
      "See the caveats in the documentation: https://pandas.pydata.org/pandas-docs/stable/user_guide/indexing.html#returning-a-view-versus-a-copy\n",
      "  moving_average[0] = price[0]\n",
      "<ipython-input-1-8b9812cb7d39>:27: SettingWithCopyWarning: \n",
      "A value is trying to be set on a copy of a slice from a DataFrame\n",
      "\n",
      "See the caveats in the documentation: https://pandas.pydata.org/pandas-docs/stable/user_guide/indexing.html#returning-a-view-versus-a-copy\n",
      "  moving_average[1] = (price[0] + price[1])/2\n",
      "<ipython-input-1-8b9812cb7d39>:28: SettingWithCopyWarning: \n",
      "A value is trying to be set on a copy of a slice from a DataFrame\n",
      "\n",
      "See the caveats in the documentation: https://pandas.pydata.org/pandas-docs/stable/user_guide/indexing.html#returning-a-view-versus-a-copy\n",
      "  moving_average[2] = (price[0] + price[1] + price[2])/3\n"
     ]
    }
   ],
   "source": [
    "import numpy as np\n",
    "import matplotlib.pyplot as plt\n",
    "import pandas as pd\n",
    "from pandas import read_csv\n",
    "import math\n",
    "import statistics\n",
    "from keras.models import Sequential, load_model\n",
    "from keras.layers import Dense\n",
    "from keras.layers import LSTM\n",
    "from sklearn.preprocessing import MinMaxScaler\n",
    "from sklearn.preprocessing import StandardScaler\n",
    "from sklearn.metrics import mean_squared_error, mean_absolute_error, mean_absolute_percentage_error\n",
    "from keras.layers.core import Dense, Activation, Dropout\n",
    "import time  # helper libraries\n",
    "import joblib\n",
    "\n",
    "from dataset_window import Dataset\n",
    "\n",
    "\n",
    "def convertCash(cash):\n",
    "\tcash = cash.replace('.', '')\n",
    "\tcash = cash.replace(',', '.')\n",
    "\treturn float(cash)\n",
    "\n",
    "def clearNanMM(moving_average, price):\n",
    "        moving_average[0] = price[0]\n",
    "        moving_average[1] = (price[0] + price[1])/2\n",
    "        moving_average[2] = (price[0] + price[1] + price[2])/3\n",
    "        return moving_average;\n",
    "\n",
    "\n",
    "def create_dataset(dataset, look_back=1):\n",
    "\tdataX, dataY = [], [] \n",
    "\tfor i in range(len(dataset)-look_back):\n",
    "\t\ta = dataset[i:(i+look_back), :]\n",
    "\t\tdataX.append(a)\n",
    "\t\tdataY.append(dataset[i + look_back, 0])\n",
    "\n",
    "\treturn np.array(dataX), np.array(dataY)\n",
    "\n",
    "#Carregando os dados\n",
    "data = pd.read_csv(\"preços-2021.csv\")\n",
    "data['DATA'] = pd.to_datetime(data.DATA, format='%d/%m/%y')\n",
    "data.set_index('DATA', inplace=True)\n",
    "index = data.index.values\n",
    "# print(index)\n",
    "# data['PREÇO'] = data['PREÇO'].apply(convertCash)\n",
    "data['PREÇO_DOLAR'] = data['PREÇO_DOLAR'].apply(convertCash)\n",
    "\n",
    "import talib as ta\n",
    "\n",
    "data['MEDIA_MOVEL'] = ta.EMA(data['PREÇO'], timeperiod=4)\n",
    "data['MEDIA_MOVEL'] = clearNanMM(data['MEDIA_MOVEL'], data['PREÇO'])"
   ]
  },
  {
   "cell_type": "code",
   "execution_count": 2,
   "id": "2ca56369",
   "metadata": {},
   "outputs": [],
   "source": [
    "scaler_price = joblib.load(\"scaler_price_file\")\n",
    "scaler_dollar = joblib.load(\"scaler_dollar_file\") \n",
    "scaler_media_movel = joblib.load(\"scaler_media_movel_file\") "
   ]
  },
  {
   "cell_type": "code",
   "execution_count": 3,
   "id": "c5a0f340",
   "metadata": {},
   "outputs": [],
   "source": [
    "data['PREÇO'] = scaler_price.fit_transform(data['PREÇO'].to_numpy().reshape(-1, 1))\n",
    "data['PREÇO_DOLAR'] = scaler_dollar.fit_transform(data['PREÇO_DOLAR'].to_numpy().reshape(-1, 1))\n",
    "data['MEDIA_MOVEL'] = scaler_dollar.fit_transform(data['MEDIA_MOVEL'].to_numpy().reshape(-1, 1))"
   ]
  },
  {
   "cell_type": "code",
   "execution_count": 4,
   "id": "0804669b",
   "metadata": {},
   "outputs": [
    {
     "name": "stdout",
     "output_type": "stream",
     "text": [
      "[[[1.         0.09031318 1.        ]\n",
      "  [0.625      0.35251275 0.625     ]\n",
      "  [0.375      1.         0.33333333]\n",
      "  [0.         0.         0.        ]]]\n"
     ]
    }
   ],
   "source": [
    "data_window = np.array([data.values])\n",
    "\n",
    "print(data_window)"
   ]
  },
  {
   "cell_type": "code",
   "execution_count": 5,
   "id": "043dea0e",
   "metadata": {},
   "outputs": [],
   "source": [
    "model = load_model('price_model')"
   ]
  },
  {
   "cell_type": "code",
   "execution_count": 6,
   "id": "8529fc9b",
   "metadata": {},
   "outputs": [
    {
     "data": {
      "text/plain": [
       "array([[24.045876]], dtype=float32)"
      ]
     },
     "execution_count": 6,
     "metadata": {},
     "output_type": "execute_result"
    }
   ],
   "source": [
    "weekly_price_now = model.predict(data_window)\n",
    "\n",
    "weekly_price_now = scaler_price.inverse_transform(weekly_price_now)\n",
    "\n",
    "weekly_price_now"
   ]
  }
 ],
 "metadata": {
  "kernelspec": {
   "display_name": "Python 3",
   "language": "python",
   "name": "python3"
  },
  "language_info": {
   "codemirror_mode": {
    "name": "ipython",
    "version": 3
   },
   "file_extension": ".py",
   "mimetype": "text/x-python",
   "name": "python",
   "nbconvert_exporter": "python",
   "pygments_lexer": "ipython3",
   "version": "3.8.5"
  }
 },
 "nbformat": 4,
 "nbformat_minor": 5
}
